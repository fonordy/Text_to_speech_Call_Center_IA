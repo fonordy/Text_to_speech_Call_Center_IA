{
 "cells": [
  {
   "cell_type": "code",
   "execution_count": null,
   "metadata": {},
   "outputs": [],
   "source": [
    "#Instalación de la libreria Whisper de OpenAI\n",
    "\n",
    "pip install git+https://github.com/openai/whisper.git\n",
    "\n",
    "#Instalamos libreria openai\n",
    "\n",
    "pip install openai\n",
    "\n",
    "#Instalamos libreria para word\n",
    "\n",
    "pip install python-docx"
   ]
  }
 ],
 "metadata": {
  "language_info": {
   "name": "python"
  }
 },
 "nbformat": 4,
 "nbformat_minor": 2
}
